{
 "cells": [
  {
   "cell_type": "markdown",
   "id": "def34515",
   "metadata": {},
   "source": [
    "## DRENAR"
   ]
  },
  {
   "cell_type": "code",
   "execution_count": 1,
   "id": "2cd73917-47bf-48ad-a7e5-b499c90818f5",
   "metadata": {},
   "outputs": [
    {
     "name": "stdout",
     "output_type": "stream",
     "text": [
      "Requirement already satisfied: nmrglue in c:\\users\\ettore bartalucci\\.virtualenvs\\ettore_bartalucci-ifgxvsho\\lib\\site-packages (0.10)\n",
      "Requirement already satisfied: numpy in c:\\users\\ettore bartalucci\\.virtualenvs\\ettore_bartalucci-ifgxvsho\\lib\\site-packages (from nmrglue) (1.26.4)\n",
      "Requirement already satisfied: scipy in c:\\users\\ettore bartalucci\\.virtualenvs\\ettore_bartalucci-ifgxvsho\\lib\\site-packages (from nmrglue) (1.13.0)\n",
      "Note: you may need to restart the kernel to use updated packages.\n"
     ]
    },
    {
     "name": "stderr",
     "output_type": "stream",
     "text": [
      "\n",
      "[notice] A new release of pip is available: 23.2.1 -> 24.2\n",
      "[notice] To update, run: python.exe -m pip install --upgrade pip\n"
     ]
    }
   ],
   "source": [
    "pip install nmrglue\n"
   ]
  },
  {
   "cell_type": "code",
   "execution_count": 2,
   "id": "6665fba5",
   "metadata": {},
   "outputs": [
    {
     "name": "stdout",
     "output_type": "stream",
     "text": [
      "Requirement already satisfied: matplotlib in c:\\users\\ettore bartalucci\\.virtualenvs\\ettore_bartalucci-ifgxvsho\\lib\\site-packages (3.8.4)\n",
      "Requirement already satisfied: contourpy>=1.0.1 in c:\\users\\ettore bartalucci\\.virtualenvs\\ettore_bartalucci-ifgxvsho\\lib\\site-packages (from matplotlib) (1.2.1)\n",
      "Requirement already satisfied: cycler>=0.10 in c:\\users\\ettore bartalucci\\.virtualenvs\\ettore_bartalucci-ifgxvsho\\lib\\site-packages (from matplotlib) (0.12.1)\n",
      "Requirement already satisfied: fonttools>=4.22.0 in c:\\users\\ettore bartalucci\\.virtualenvs\\ettore_bartalucci-ifgxvsho\\lib\\site-packages (from matplotlib) (4.51.0)\n",
      "Requirement already satisfied: kiwisolver>=1.3.1 in c:\\users\\ettore bartalucci\\.virtualenvs\\ettore_bartalucci-ifgxvsho\\lib\\site-packages (from matplotlib) (1.4.5)\n",
      "Requirement already satisfied: numpy>=1.21 in c:\\users\\ettore bartalucci\\.virtualenvs\\ettore_bartalucci-ifgxvsho\\lib\\site-packages (from matplotlib) (1.26.4)\n",
      "Requirement already satisfied: packaging>=20.0 in c:\\users\\ettore bartalucci\\.virtualenvs\\ettore_bartalucci-ifgxvsho\\lib\\site-packages (from matplotlib) (24.0)\n",
      "Requirement already satisfied: pillow>=8 in c:\\users\\ettore bartalucci\\.virtualenvs\\ettore_bartalucci-ifgxvsho\\lib\\site-packages (from matplotlib) (10.3.0)\n",
      "Requirement already satisfied: pyparsing>=2.3.1 in c:\\users\\ettore bartalucci\\.virtualenvs\\ettore_bartalucci-ifgxvsho\\lib\\site-packages (from matplotlib) (3.1.2)\n",
      "Requirement already satisfied: python-dateutil>=2.7 in c:\\users\\ettore bartalucci\\.virtualenvs\\ettore_bartalucci-ifgxvsho\\lib\\site-packages (from matplotlib) (2.9.0.post0)\n",
      "Requirement already satisfied: six>=1.5 in c:\\users\\ettore bartalucci\\.virtualenvs\\ettore_bartalucci-ifgxvsho\\lib\\site-packages (from python-dateutil>=2.7->matplotlib) (1.16.0)\n",
      "Note: you may need to restart the kernel to use updated packages.\n"
     ]
    },
    {
     "name": "stderr",
     "output_type": "stream",
     "text": [
      "\n",
      "[notice] A new release of pip is available: 23.2.1 -> 24.2\n",
      "[notice] To update, run: python.exe -m pip install --upgrade pip\n"
     ]
    }
   ],
   "source": [
    "pip install matplotlib"
   ]
  },
  {
   "cell_type": "markdown",
   "id": "e4e38f7d",
   "metadata": {},
   "source": [
    "#### Load data"
   ]
  },
  {
   "cell_type": "markdown",
   "id": "2c058f9c",
   "metadata": {},
   "source": [
    "#### Define data and experiment"
   ]
  },
  {
   "cell_type": "code",
   "execution_count": 3,
   "id": "51f2e777",
   "metadata": {},
   "outputs": [],
   "source": [
    "import os\n",
    "import nmrglue as ng\n",
    "import matplotlib.pyplot as plt\n",
    "import numpy as np\n",
    "import csv\n",
    "from scipy.constants import pi\n",
    "from scipy.constants import physical_constants\n",
    "from scipy.optimize import curve_fit\n",
    "import utils\n",
    "from utils import gamma"
   ]
  },
  {
   "cell_type": "code",
   "execution_count": 4,
   "id": "df7e2dfd",
   "metadata": {},
   "outputs": [],
   "source": [
    "# vars(utils)"
   ]
  },
  {
   "cell_type": "code",
   "execution_count": 5,
   "id": "68f3491c",
   "metadata": {},
   "outputs": [
    {
     "name": "stdout",
     "output_type": "stream",
     "text": [
      "1.25663706212e-06\n"
     ]
    }
   ],
   "source": [
    "# define data location\n",
    "PREFIX=r\"C:\\Messdaten\\TWC-SM\\NMR Data\\500 MHz\\Lumineszenz\"\n",
    "LIB=\"31.07.2024\"\n",
    "EXPNAME=\"240731_3p2mm_13P-DRENAR_Mechanolumineszenz\"\n",
    "\n",
    "expno = '14'  # @param {type:\"string\"}\n",
    "procno = '1'  # @param {type:\"string\"}\n",
    "\n",
    "# define processing parameters\n",
    "int_width = 100\n",
    "number_of_peak=2\n",
    "# define experiment paramters\n",
    "spin_rate = 17  # in kHz\n",
    "\n",
    "# define constants\n",
    "mu_0 = physical_constants['vacuum mag. permeability'][0]\n",
    "print(mu_0)\n",
    "hbar = physical_constants['reduced Planck constant'][0]\n",
    "gamma_S = gamma.P\n",
    "\n",
    "# define a guess of the distance as initial value for fitting\n",
    "r_guess = 0.4  # in nm\n"
   ]
  },
  {
   "cell_type": "markdown",
   "id": "ec028c67",
   "metadata": {},
   "source": [
    "#### Read and process all spectra"
   ]
  },
  {
   "cell_type": "code",
   "execution_count": 6,
   "id": "bbc1f9fb",
   "metadata": {},
   "outputs": [
    {
     "name": "stdout",
     "output_type": "stream",
     "text": [
      "C:\\Messdaten\\TWC-SM\\NMR Data\\500 MHz\\Lumineszenz\\240731_3p2mm_13P-DRENAR_Mechanolumineszenz\\14\\pdata\n"
     ]
    },
    {
     "ename": "IndexError",
     "evalue": "list assignment index out of range",
     "output_type": "error",
     "traceback": [
      "\u001b[1;31m---------------------------------------------------------------------------\u001b[0m",
      "\u001b[1;31mIndexError\u001b[0m                                Traceback (most recent call last)",
      "Cell \u001b[1;32mIn[6], line 12\u001b[0m\n\u001b[0;32m      9\u001b[0m     \u001b[38;5;28;01mfor\u001b[39;00m name \u001b[38;5;129;01min\u001b[39;00m dirs:\n\u001b[0;32m     10\u001b[0m         procs\u001b[38;5;241m.\u001b[39mappend(name)\n\u001b[1;32m---> 12\u001b[0m \u001b[38;5;28;01mdel\u001b[39;00m \u001b[43mprocs\u001b[49m\u001b[43m[\u001b[49m\u001b[38;5;241;43m0\u001b[39;49m\u001b[43m]\u001b[49m\n\u001b[0;32m     13\u001b[0m num_of_procs \u001b[38;5;241m=\u001b[39m \u001b[38;5;28mlen\u001b[39m(procs)\n\u001b[0;32m     14\u001b[0m int_list \u001b[38;5;241m=\u001b[39m np\u001b[38;5;241m.\u001b[39mzeros(num_of_procs)\n",
      "\u001b[1;31mIndexError\u001b[0m: list assignment index out of range"
     ]
    }
   ],
   "source": [
    "# get a list of all processed spectra\n",
    "# dir_exp = os.path.join(PREFIX, LIB, EXPNAME)\n",
    "# dir_proc = os.path.join(PREFIX, LIB, EXPNAME, expno, 'pdata')\n",
    "dir_exp = os.path.join(PREFIX, EXPNAME)\n",
    "dir_proc = os.path.join(PREFIX, EXPNAME, expno, 'pdata')\n",
    "procs = []\n",
    "print(dir_proc)\n",
    "for root, dirs, files in os.walk(dir_proc):\n",
    "    for name in dirs:\n",
    "        procs.append(name)\n",
    "\n",
    "del procs[0]\n",
    "num_of_procs = len(procs)\n",
    "int_list = np.zeros(num_of_procs)\n",
    "\n",
    "\n",
    "\n",
    "# read and process all spectra\n",
    "first_spec = True\n",
    "counter = 0\n",
    "fig, ax = plt.subplots(figsize=(8,4), constrained_layout=True)\n",
    "for procno in procs:\n",
    "    \n",
    "    path_proc = os.path.join(dir_proc, procno)\n",
    "    dic,data = ng.bruker.read_pdata(path_proc)\n",
    "\n",
    "    if first_spec:\n",
    "        first_spec = False\n",
    "        # define peak region\n",
    "        pp_threshold = data.max()/2\n",
    "        peaks = ng.peakpick.pick(data, pthres=pp_threshold, algorithm=\"downward\")\n",
    "        peak_center = peaks[number_of_peak][\"X_AXIS\"]# + peaks[1][\"X_AXIS\"])/2\n",
    "        int_lb = int(peak_center - int_width/2)\n",
    "        int_ub = int(peak_center + int_width/2)\n",
    "        ax.plot(data.real)\n",
    "        for n, peak in enumerate(peaks):\n",
    "            height = data[int(peak[\"X_AXIS\"])]\n",
    "            ax.scatter(peak[\"X_AXIS\"], height, marker=\"o\", color=\"r\", s=100, alpha=0.5)\n",
    "            ax.text(peak[\"X_AXIS\"], height+5e5, n+1, ha=\"center\", va=\"center\")\n",
    "\n",
    "        intrng = data[int_lb:int_ub+1]\n",
    "        intrng_scale = np.arange(0, data.shape[0], 1)[int_lb:int_ub+1]\n",
    "        ax.plot(intrng_scale, intrng.cumsum()/100. + data.max(), 'g-')\n",
    "        ax.plot(intrng_scale, [0]*len(intrng_scale), 'r-')\n",
    "        ax.text(intrng_scale[0], 0.5*intrng.sum()/100. + data.max(), \"integral\", fontsize=8)\n",
    "\n",
    "        # ax.hlines(pp_threshold, , linestyle=\"--\", color=\"k\")\n",
    "        ax.set_ylim(top=data.max()*1.2)\n",
    "        plt.show()\n",
    "\n",
    "    intrng = data[int_lb:int_ub+1]\n",
    "    intrng_scale = np.arange(0, data.shape[0], 1)[int_lb:int_ub+1]\n",
    "    int_list[counter] = intrng.sum()\n",
    "    counter = counter+1"
   ]
  },
  {
   "cell_type": "markdown",
   "id": "79996f86",
   "metadata": {},
   "source": [
    "#### Calculate experimental DRENAR points"
   ]
  },
  {
   "cell_type": "code",
   "execution_count": null,
   "id": "9b50779a",
   "metadata": {},
   "outputs": [
    {
     "name": "stdout",
     "output_type": "stream",
     "text": [
      "Maximum evolution time: 11.3 ms\n"
     ]
    },
    {
     "data": {
      "image/png": "[encoded data removed]",
      "text/plain": [
       "<Figure size 800x400 with 1 Axes>"
      ]
     },
     "metadata": {},
     "output_type": "display_data"
    }
   ],
   "source": [
    "int_list = int_list.reshape(2, int(num_of_procs/2))\n",
    "# print(len(int_list))\n",
    "\n",
    "diff_list = np.zeros(int_list.shape[1])\n",
    "# print(len(diff_list))\n",
    "drenar_list = np.zeros(int_list.shape[1])\n",
    "for j in range(int_list.shape[1]):\n",
    "    diff_list[j] = int_list[1, j] - int_list[0, j]\n",
    "    drenar_list[j] = diff_list[j] / int_list[1, j]\n",
    "\n",
    "# print(diff_list)\n",
    "# print(drenar_list)\n",
    "#print(int_list.shape[1])\n",
    "\n",
    "# plot\n",
    "# plt.plot(data)\n",
    "# plt.savefig(\"./fig/plot.png\")\n",
    "\n",
    "# plot DRENAR points\n",
    "d5 = 1 / spin_rate  # in ms\n",
    "time_exp = np.zeros(int_list.shape[1])\n",
    "\n",
    "for i in range(int_list.shape[1]):\n",
    "     time_exp[i] = 16*(i+1)*d5\n",
    "\n",
    "print(\"Maximum evolution time: {:.1f} ms\".format(time_exp[-1]))\n",
    "\n",
    "new_list=np.zeros((int_list.shape[1], 2))\n",
    "\n",
    "for k in range(drenar_list.shape[0]):\n",
    "    new_list[k][0]=time_exp[k]\n",
    "    new_list[k][1]=drenar_list[k]\n",
    "\n",
    "new_list = [row for row in new_list if row[1] <= 5]\n",
    "\n",
    "x_coords = [row[0] for row in new_list]\n",
    "y_coords = [row[1] for row in new_list]\n",
    "\n",
    "\n",
    "fig, ax = plt.subplots(figsize=(8,4), constrained_layout=True)\n",
    "#ax.scatter(time_exp, drenar_list)\n",
    "ax.scatter(x_coords, y_coords)\n",
    "ax.set_xlabel('DRENAR time (ms)')\n",
    "ax.set_ylabel('1-S/S_0')\n",
    "plt.show()"
   ]
  },
  {
   "cell_type": "code",
   "execution_count": null,
   "id": "6718bcce",
   "metadata": {},
   "outputs": [
    {
     "data": {
      "text/plain": [
       "12"
      ]
     },
     "execution_count": 156,
     "metadata": {},
     "output_type": "execute_result"
    }
   ],
   "source": [
    "int_list.shape[1]"
   ]
  },
  {
   "cell_type": "markdown",
   "id": "2a9ee0f4",
   "metadata": {},
   "source": [
    "#### If needed, write data points to a file"
   ]
  },
  {
   "cell_type": "code",
   "execution_count": null,
   "id": "dbad7080-db0c-4022-99e9-615c2d7227ae",
   "metadata": {},
   "outputs": [],
   "source": [
    "int_list1 = np.zeros(int_list.shape[1])\n",
    "int_list2 = np.zeros(int_list.shape[1])\n",
    "for j in range(int_list.shape[1]):\n",
    "    int_list1[j] = int_list[0, j]\n",
    "    int_list2[j] = int_list[1, j]"
   ]
  },
  {
   "cell_type": "code",
   "execution_count": null,
   "id": "a96f8bce-729f-4beb-8bec-83e9ac7dd652",
   "metadata": {},
   "outputs": [],
   "source": [
    "#filename = os.path.join(\"./\", \"data\", EXPNAME + \"_\" + expno + \".csv\")\n",
    "filename = os.path.join(\"./\", EXPNAME + \"_\" + expno + \".csv\")\n",
    "with open(filename, 'w', newline='') as csvfile:\n",
    "    csvwriter = csv.writer(csvfile, delimiter=',')\n",
    "    csvwriter.writerow(time_exp)\n",
    "    csvwriter.writerow(int_list1)\n",
    "    csvwriter.writerow(int_list2)"
   ]
  },
  {
   "cell_type": "markdown",
   "id": "3555ce51-f3bf-45ab-850d-38cf364cdc7b",
   "metadata": {},
   "source": [
    "#### Read data points from a file (not needed if previous cells are correctly run)"
   ]
  },
  {
   "cell_type": "code",
   "execution_count": null,
   "id": "1323755f-bca6-47c4-ad99-b8e63951e23e",
   "metadata": {},
   "outputs": [
    {
     "ename": "TypeError",
     "evalue": "unsupported operand type(s) for +: 'NoneType' and 'str'",
     "output_type": "error",
     "traceback": [
      "\u001b[1;31m---------------------------------------------------------------------------\u001b[0m",
      "\u001b[1;31mTypeError\u001b[0m                                 Traceback (most recent call last)",
      "\u001b[1;32mc:\\Users\\svenmoos\\Documents\\06_Projekte\\DRENAR\\DRENAR_processing\\drenar.ipynb Cell 18\u001b[0m line \u001b[0;36m4\n\u001b[0;32m      <a href='vscode-notebook-cell:/c%3A/Users/svenmoos/Documents/06_Projekte/DRENAR/DRENAR_processing/drenar.ipynb#X20sZmlsZQ%3D%3D?line=1'>2</a>\u001b[0m EXPNAME \u001b[39m=\u001b[39m os\u001b[39m.\u001b[39mgetenv(\u001b[39m\"\u001b[39m\u001b[39mEXPNAME\u001b[39m\u001b[39m\"\u001b[39m)\n\u001b[0;32m      <a href='vscode-notebook-cell:/c%3A/Users/svenmoos/Documents/06_Projekte/DRENAR/DRENAR_processing/drenar.ipynb#X20sZmlsZQ%3D%3D?line=2'>3</a>\u001b[0m expno \u001b[39m=\u001b[39m \u001b[39m'\u001b[39m\u001b[39m50\u001b[39m\u001b[39m'\u001b[39m\n\u001b[1;32m----> <a href='vscode-notebook-cell:/c%3A/Users/svenmoos/Documents/06_Projekte/DRENAR/DRENAR_processing/drenar.ipynb#X20sZmlsZQ%3D%3D?line=3'>4</a>\u001b[0m filename \u001b[39m=\u001b[39m os\u001b[39m.\u001b[39mpath\u001b[39m.\u001b[39mjoin(\u001b[39m\"\u001b[39m\u001b[39m./\u001b[39m\u001b[39m\"\u001b[39m, \u001b[39m\"\u001b[39m\u001b[39mdata\u001b[39m\u001b[39m\"\u001b[39m, EXPNAME \u001b[39m+\u001b[39;49m \u001b[39m\"\u001b[39;49m\u001b[39m_\u001b[39;49m\u001b[39m\"\u001b[39;49m \u001b[39m+\u001b[39m expno \u001b[39m+\u001b[39m \u001b[39m\"\u001b[39m\u001b[39m.csv\u001b[39m\u001b[39m\"\u001b[39m)\n\u001b[0;32m      <a href='vscode-notebook-cell:/c%3A/Users/svenmoos/Documents/06_Projekte/DRENAR/DRENAR_processing/drenar.ipynb#X20sZmlsZQ%3D%3D?line=4'>5</a>\u001b[0m \u001b[39mwith\u001b[39;00m \u001b[39mopen\u001b[39m(filename, newline\u001b[39m=\u001b[39m\u001b[39m'\u001b[39m\u001b[39m'\u001b[39m) \u001b[39mas\u001b[39;00m csvfile:\n\u001b[0;32m      <a href='vscode-notebook-cell:/c%3A/Users/svenmoos/Documents/06_Projekte/DRENAR/DRENAR_processing/drenar.ipynb#X20sZmlsZQ%3D%3D?line=5'>6</a>\u001b[0m     csvreader \u001b[39m=\u001b[39m csv\u001b[39m.\u001b[39mreader(csvfile, delimiter\u001b[39m=\u001b[39m\u001b[39m'\u001b[39m\u001b[39m,\u001b[39m\u001b[39m'\u001b[39m)\n",
      "\u001b[1;31mTypeError\u001b[0m: unsupported operand type(s) for +: 'NoneType' and 'str'"
     ]
    }
   ],
   "source": [
    "# define experiment\n",
    "EXPNAME = os.getenv(\"EXPNAME\")\n",
    "expno = '50'\n",
    "filename = os.path.join(\"./\", \"data\", EXPNAME + \"_\" + expno + \".csv\")\n",
    "with open(filename, newline='') as csvfile:\n",
    "    csvreader = csv.reader(csvfile, delimiter=',')\n",
    "    time_exp = np.array(csvreader.__next__(), dtype=\"double\")\n",
    "    drenar_list = np.array(csvreader.__next__(), dtype=\"double\")"
   ]
  },
  {
   "cell_type": "markdown",
   "id": "38881421-6fd0-43c7-80c8-908204673148",
   "metadata": {},
   "source": [
    "#### Fit the DRENAR curve"
   ]
  },
  {
   "cell_type": "code",
   "execution_count": null,
   "id": "0675f654",
   "metadata": {
    "scrolled": true
   },
   "outputs": [
    {
     "name": "stdout",
     "output_type": "stream",
     "text": [
      "Dipolar coupling constant by guess = 0.308 kHz\n",
      "[0.57057844]\n",
      "Dipolar coupling constant by fitting = 0.441 kHz\n",
      "Standard deviation of dipolar coupling constant by fitting = 0.5706 kHz\n",
      "Fitted r = 0.355 nm\n"
     ]
    },
    {
     "ename": "NameError",
     "evalue": "name 'd_IS_guess' is not defined",
     "output_type": "error",
     "traceback": [
      "\u001b[1;31m---------------------------------------------------------------------------\u001b[0m",
      "\u001b[1;31mNameError\u001b[0m                                 Traceback (most recent call last)",
      "\u001b[1;32mc:\\Users\\svenmoos\\Documents\\06_Projekte\\DRENAR\\DRENAR_processing\\drenar.ipynb Cell 20\u001b[0m line \u001b[0;36m3\n\u001b[0;32m     <a href='vscode-notebook-cell:/c%3A/Users/svenmoos/Documents/06_Projekte/DRENAR/DRENAR_processing/drenar.ipynb#X22sZmlsZQ%3D%3D?line=31'>32</a>\u001b[0m time_axis \u001b[39m=\u001b[39m np\u001b[39m.\u001b[39mlinspace(\u001b[39m0\u001b[39m,time_exp[\u001b[39m-\u001b[39m\u001b[39m1\u001b[39m],\u001b[39m100\u001b[39m)\n\u001b[0;32m     <a href='vscode-notebook-cell:/c%3A/Users/svenmoos/Documents/06_Projekte/DRENAR/DRENAR_processing/drenar.ipynb#X22sZmlsZQ%3D%3D?line=32'>33</a>\u001b[0m drenar_opt \u001b[39m=\u001b[39m drenar_calculator(time_axis, popt[\u001b[39m0\u001b[39m])\n\u001b[1;32m---> <a href='vscode-notebook-cell:/c%3A/Users/svenmoos/Documents/06_Projekte/DRENAR/DRENAR_processing/drenar.ipynb#X22sZmlsZQ%3D%3D?line=33'>34</a>\u001b[0m drenar_guess \u001b[39m=\u001b[39m drenar_calculator(time_axis, d_IS_guess)\n\u001b[0;32m     <a href='vscode-notebook-cell:/c%3A/Users/svenmoos/Documents/06_Projekte/DRENAR/DRENAR_processing/drenar.ipynb#X22sZmlsZQ%3D%3D?line=35'>36</a>\u001b[0m fig, ax \u001b[39m=\u001b[39m plt\u001b[39m.\u001b[39msubplots(figsize\u001b[39m=\u001b[39m(\u001b[39m8\u001b[39m,\u001b[39m4\u001b[39m), constrained_layout\u001b[39m=\u001b[39m\u001b[39mTrue\u001b[39;00m)\n\u001b[0;32m     <a href='vscode-notebook-cell:/c%3A/Users/svenmoos/Documents/06_Projekte/DRENAR/DRENAR_processing/drenar.ipynb#X22sZmlsZQ%3D%3D?line=36'>37</a>\u001b[0m ax\u001b[39m.\u001b[39mscatter(time_exp, drenar_list)\n",
      "\u001b[1;31mNameError\u001b[0m: name 'd_IS_guess' is not defined"
     ]
    }
   ],
   "source": [
    "d_guess = mu_0 / (4*pi) * ((gamma_S**2) * hbar) / (2*pi) / (r_guess/10**9)**3 /1000  # in Hz\n",
    "print('Dipolar coupling constant by guess = {:.3f} kHz'.format(d_guess))\n",
    "\n",
    "\n",
    "# fit DRENAR curve with parabola function\n",
    "max_number_of_points = 3\n",
    "d5 = 1 / spin_rate  # in ms\n",
    "\n",
    "new_drenar_list=np.zeros(max_number_of_points+1)\n",
    "new_time_list= np.zeros(max_number_of_points+1)\n",
    "\n",
    "for k in range(max_number_of_points):\n",
    "    new_drenar_list[k+1] = drenar_list[k]\n",
    "    new_time_list[k+1] = time_exp[k]\n",
    "\n",
    "def drenar_calculator(x, b):\n",
    "    result = (12/5)* b**2 * x**2\n",
    "    return result\n",
    "\n",
    "\n",
    "popt, pconv = curve_fit(drenar_calculator, new_time_list, new_drenar_list, p0=d_guess, bounds=(0,10))\n",
    "perr = np.sqrt(np.diag(pconv))  # standard deviation\n",
    "print(perr)\n",
    "\n",
    "print('Dipolar coupling constant by fitting = {:.3f} kHz'.format(popt[0]))\n",
    "print('Standard deviation of dipolar coupling constant by fitting = {:.4f} kHz'.format(perr[0]))\n",
    "\n",
    "r_opt = (mu_0 / (4*pi) * ((gamma_S**2) * hbar) / (2*pi) / popt[0] /1000)**(1/3) * 10**9  # in nm\n",
    "print('Fitted r = {:.3f} nm'.format(r_opt))\n",
    "\n",
    "# plot\n",
    "time_axis = np.linspace(0,time_exp[-1],100)\n",
    "drenar_opt = drenar_calculator(time_axis, popt[0])\n",
    "drenar_guess = drenar_calculator(time_axis, d_IS_guess)\n",
    "\n",
    "fig, ax = plt.subplots(figsize=(8,4), constrained_layout=True)\n",
    "ax.scatter(time_exp, drenar_list)\n",
    "ax.plot(time_axis, drenar_opt)\n",
    "ax.plot(time_axis, drenar_guess)\n",
    "ax.set_xlabel('DRENAR time (ms)')\n",
    "ax.set_ylabel('1-S/S_0')\n",
    "ax.set_xlim(left=0)\n",
    "ax.set_ylim(top=2,bottom=-0.5)\n",
    "ax.text(0.75*time_exp.max(),0.1*drenar_opt.max(),'Fitted r = {:.3f} nm'.format(r_opt))\n",
    "plt.show()\n"
   ]
  },
  {
   "cell_type": "markdown",
   "id": "b91f4c83",
   "metadata": {},
   "source": [
    "Author: Yufei Wu  \n",
    "Last changed: 2024-08-04  \n",
    "Email: yufei.wu@itmc.rwth-aachen.de"
   ]
  }
 ],
 "metadata": {
  "kernelspec": {
   "display_name": "Python 3 (ipykernel)",
   "language": "python",
   "name": "python3"
  },
  "language_info": {
   "codemirror_mode": {
    "name": "ipython",
    "version": 3
   },
   "file_extension": ".py",
   "mimetype": "text/x-python",
   "name": "python",
   "nbconvert_exporter": "python",
   "pygments_lexer": "ipython3",
   "version": "3.12.0"
  }
 },
 "nbformat": 4,
 "nbformat_minor": 5
}
